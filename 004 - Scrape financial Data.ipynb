{
 "cells": [
  {
   "cell_type": "code",
   "execution_count": 1,
   "metadata": {},
   "outputs": [],
   "source": [
    "from datetime import datetime\n",
    "import lxml\n",
    "from lxml import html\n",
    "import requests\n",
    "import numpy as np\n",
    "import pandas as pd"
   ]
  },
  {
   "cell_type": "code",
   "execution_count": 3,
   "metadata": {},
   "outputs": [],
   "source": [
    "symbol = 'EGIE3.SA'"
   ]
  },
  {
   "cell_type": "markdown",
   "metadata": {},
   "source": [
    "https://finance.yahoo.com/quote/EGIE3.SA/balance-sheet?p=EGIE3.SA"
   ]
  },
  {
   "cell_type": "code",
   "execution_count": 7,
   "metadata": {},
   "outputs": [],
   "source": [
    "url = 'https://finance.yahoo.com/quote/' + symbol + '/balance-sheet?p=' + symbol"
   ]
  },
  {
   "cell_type": "code",
   "execution_count": 8,
   "metadata": {},
   "outputs": [
    {
     "data": {
      "text/plain": [
       "['EGIE3.SA - Engie Brasil Energia S.A.']"
      ]
     },
     "execution_count": 8,
     "metadata": {},
     "output_type": "execute_result"
    }
   ],
   "source": [
    "# Set up the request headers that we're going to use, to simulate\n",
    "# a request by the Chrome browser. Simulating a request from a browser\n",
    "# is generally good practice when building a scraper\n",
    "headers = {\n",
    "    'Accept': 'text/html,application/xhtml+xml,application/xml;q=0.9,image/webp,image/apng,*/*;q=0.8,application/signed-exchange;v=b3',\n",
    "    'Accept-Encoding': 'gzip, deflate, br',\n",
    "    'Accept-Language': 'en-US,en;q=0.9',\n",
    "    'Cache-Control': 'max-age=0',\n",
    "    'Pragma': 'no-cache',\n",
    "    'Referrer': 'https://google.com',\n",
    "    'User-Agent': 'Mozilla/5.0 (Windows NT 10.0; Win64; x64) AppleWebKit/537.36 (KHTML, like Gecko) Chrome/77.0.3865.120 Safari/537.36'\n",
    "}\n",
    "\n",
    "# Fetch the page that we're going to parse, using the request headers\n",
    "# defined above\n",
    "page = requests.get(url, headers)\n",
    "\n",
    "# Parse the page with LXML, so that we can start doing some XPATH queries\n",
    "# to extract the data that we want\n",
    "tree = html.fromstring(page.content)\n",
    "\n",
    "# Smoke test that we fetched the page by fetching and displaying the H1 element\n",
    "tree.xpath(\"//h1/text()\")"
   ]
  },
  {
   "cell_type": "markdown",
   "metadata": {},
   "source": [
    "### reading the Financial data"
   ]
  },
  {
   "cell_type": "code",
   "execution_count": 19,
   "metadata": {},
   "outputs": [],
   "source": [
    "table_rows = tree.xpath(\"//div[contains(@class, 'D(tbr)')]\")\n",
    "assert len(table_rows) >0"
   ]
  },
  {
   "cell_type": "code",
   "execution_count": 20,
   "metadata": {},
   "outputs": [
    {
     "data": {
      "text/plain": [
       "[<Element div at 0x24c0035c368>,\n",
       " <Element div at 0x24c00456368>,\n",
       " <Element div at 0x24c00456a48>,\n",
       " <Element div at 0x24c00456b38>,\n",
       " <Element div at 0x24c00456b88>,\n",
       " <Element div at 0x24c00456bd8>,\n",
       " <Element div at 0x24c00456c28>,\n",
       " <Element div at 0x24c00456c78>,\n",
       " <Element div at 0x24c00456cc8>,\n",
       " <Element div at 0x24c00456d18>,\n",
       " <Element div at 0x24c00456d68>,\n",
       " <Element div at 0x24c00456db8>,\n",
       " <Element div at 0x24c00456e08>,\n",
       " <Element div at 0x24c00456e58>,\n",
       " <Element div at 0x24c00456ea8>]"
      ]
     },
     "execution_count": 20,
     "metadata": {},
     "output_type": "execute_result"
    }
   ],
   "source": []
  },
  {
   "cell_type": "code",
   "execution_count": 13,
   "metadata": {},
   "outputs": [],
   "source": [
    "parsed_rows = []"
   ]
  },
  {
   "cell_type": "code",
   "execution_count": 18,
   "metadata": {},
   "outputs": [
    {
     "data": {
      "text/html": [
       "<div>\n",
       "<style scoped>\n",
       "    .dataframe tbody tr th:only-of-type {\n",
       "        vertical-align: middle;\n",
       "    }\n",
       "\n",
       "    .dataframe tbody tr th {\n",
       "        vertical-align: top;\n",
       "    }\n",
       "\n",
       "    .dataframe thead th {\n",
       "        text-align: right;\n",
       "    }\n",
       "</style>\n",
       "<table border=\"1\" class=\"dataframe\">\n",
       "  <thead>\n",
       "    <tr style=\"text-align: right;\">\n",
       "      <th></th>\n",
       "      <th>0</th>\n",
       "      <th>1</th>\n",
       "      <th>2</th>\n",
       "      <th>3</th>\n",
       "      <th>4</th>\n",
       "    </tr>\n",
       "  </thead>\n",
       "  <tbody>\n",
       "    <tr>\n",
       "      <th>0</th>\n",
       "      <td>Breakdown</td>\n",
       "      <td>12/31/2019</td>\n",
       "      <td>12/31/2018</td>\n",
       "      <td>12/31/2017</td>\n",
       "      <td>12/31/2016</td>\n",
       "    </tr>\n",
       "    <tr>\n",
       "      <th>1</th>\n",
       "      <td>Total Assets</td>\n",
       "      <td>30,135,578</td>\n",
       "      <td>23,735,545</td>\n",
       "      <td>19,568,513</td>\n",
       "      <td>14,419,691</td>\n",
       "    </tr>\n",
       "    <tr>\n",
       "      <th>2</th>\n",
       "      <td>Total Liabilities Net Minority Interest</td>\n",
       "      <td>23,136,758</td>\n",
       "      <td>17,414,968</td>\n",
       "      <td>12,733,788</td>\n",
       "      <td>7,805,297</td>\n",
       "    </tr>\n",
       "    <tr>\n",
       "      <th>3</th>\n",
       "      <td>Total Equity Gross Minority Interest</td>\n",
       "      <td>6,998,820</td>\n",
       "      <td>6,320,577</td>\n",
       "      <td>6,834,725</td>\n",
       "      <td>6,614,394</td>\n",
       "    </tr>\n",
       "    <tr>\n",
       "      <th>4</th>\n",
       "      <td>Total Capitalization</td>\n",
       "      <td>18,916,052</td>\n",
       "      <td>15,371,538</td>\n",
       "      <td>10,511,092</td>\n",
       "      <td>9,400,216</td>\n",
       "    </tr>\n",
       "    <tr>\n",
       "      <th>5</th>\n",
       "      <td>Common Stock Equity</td>\n",
       "      <td>6,995,154</td>\n",
       "      <td>6,316,186</td>\n",
       "      <td>6,830,594</td>\n",
       "      <td>6,611,227</td>\n",
       "    </tr>\n",
       "    <tr>\n",
       "      <th>6</th>\n",
       "      <td>Capital Lease Obligations</td>\n",
       "      <td>134,307</td>\n",
       "      <td>NaN</td>\n",
       "      <td>NaN</td>\n",
       "      <td>NaN</td>\n",
       "    </tr>\n",
       "    <tr>\n",
       "      <th>7</th>\n",
       "      <td>Net Tangible Assets</td>\n",
       "      <td>5,698,385</td>\n",
       "      <td>5,003,341</td>\n",
       "      <td>5,521,643</td>\n",
       "      <td>6,358,713</td>\n",
       "    </tr>\n",
       "    <tr>\n",
       "      <th>8</th>\n",
       "      <td>Working Capital</td>\n",
       "      <td>766,027</td>\n",
       "      <td>386,416</td>\n",
       "      <td>-1,940,692</td>\n",
       "      <td>1,554,297</td>\n",
       "    </tr>\n",
       "    <tr>\n",
       "      <th>9</th>\n",
       "      <td>Invested Capital</td>\n",
       "      <td>21,758,212</td>\n",
       "      <td>16,036,420</td>\n",
       "      <td>13,587,010</td>\n",
       "      <td>9,699,959</td>\n",
       "    </tr>\n",
       "    <tr>\n",
       "      <th>10</th>\n",
       "      <td>Tangible Book Value</td>\n",
       "      <td>5,698,385</td>\n",
       "      <td>5,003,341</td>\n",
       "      <td>5,521,643</td>\n",
       "      <td>6,358,713</td>\n",
       "    </tr>\n",
       "    <tr>\n",
       "      <th>11</th>\n",
       "      <td>Total Debt</td>\n",
       "      <td>14,897,365</td>\n",
       "      <td>9,720,234</td>\n",
       "      <td>6,756,416</td>\n",
       "      <td>3,088,732</td>\n",
       "    </tr>\n",
       "    <tr>\n",
       "      <th>12</th>\n",
       "      <td>Net Debt</td>\n",
       "      <td>10,892,797</td>\n",
       "      <td>7,304,442</td>\n",
       "      <td>4,826,346</td>\n",
       "      <td>1,273,392</td>\n",
       "    </tr>\n",
       "    <tr>\n",
       "      <th>13</th>\n",
       "      <td>Share Issued</td>\n",
       "      <td>815,928</td>\n",
       "      <td>815,928</td>\n",
       "      <td>815,928</td>\n",
       "      <td>815,928</td>\n",
       "    </tr>\n",
       "    <tr>\n",
       "      <th>14</th>\n",
       "      <td>Ordinary Shares Number</td>\n",
       "      <td>815,928</td>\n",
       "      <td>815,928</td>\n",
       "      <td>815,928</td>\n",
       "      <td>815,928</td>\n",
       "    </tr>\n",
       "  </tbody>\n",
       "</table>\n",
       "</div>"
      ],
      "text/plain": [
       "                                          0           1           2  \\\n",
       "0                                 Breakdown  12/31/2019  12/31/2018   \n",
       "1                              Total Assets  30,135,578  23,735,545   \n",
       "2   Total Liabilities Net Minority Interest  23,136,758  17,414,968   \n",
       "3      Total Equity Gross Minority Interest   6,998,820   6,320,577   \n",
       "4                      Total Capitalization  18,916,052  15,371,538   \n",
       "5                       Common Stock Equity   6,995,154   6,316,186   \n",
       "6                 Capital Lease Obligations     134,307         NaN   \n",
       "7                       Net Tangible Assets   5,698,385   5,003,341   \n",
       "8                           Working Capital     766,027     386,416   \n",
       "9                          Invested Capital  21,758,212  16,036,420   \n",
       "10                      Tangible Book Value   5,698,385   5,003,341   \n",
       "11                               Total Debt  14,897,365   9,720,234   \n",
       "12                                 Net Debt  10,892,797   7,304,442   \n",
       "13                             Share Issued     815,928     815,928   \n",
       "14                   Ordinary Shares Number     815,928     815,928   \n",
       "\n",
       "             3           4  \n",
       "0   12/31/2017  12/31/2016  \n",
       "1   19,568,513  14,419,691  \n",
       "2   12,733,788   7,805,297  \n",
       "3    6,834,725   6,614,394  \n",
       "4   10,511,092   9,400,216  \n",
       "5    6,830,594   6,611,227  \n",
       "6          NaN         NaN  \n",
       "7    5,521,643   6,358,713  \n",
       "8   -1,940,692   1,554,297  \n",
       "9   13,587,010   9,699,959  \n",
       "10   5,521,643   6,358,713  \n",
       "11   6,756,416   3,088,732  \n",
       "12   4,826,346   1,273,392  \n",
       "13     815,928     815,928  \n",
       "14     815,928     815,928  "
      ]
     },
     "execution_count": 18,
     "metadata": {},
     "output_type": "execute_result"
    }
   ],
   "source": [
    "for table_row in table_rows:\n",
    "    parsed_row = []\n",
    "    el = table_row.xpath('./div')\n",
    "    none_count = 0\n",
    "    \n",
    "    for rs in el:\n",
    "        try:\n",
    "            (text,)=  rs.xpath('.//span/text()[1]')\n",
    "            parsed_row.append(text)\n",
    "        except ValueError:\n",
    "            parsed_row.append(np.NaN)\n",
    "            none_count +=1\n",
    "    if( none_count < 4):\n",
    "        parsed_rows.append(parsed_row)\n",
    "df = pd.DataFrame(parsed_rows)        \n",
    "df"
   ]
  },
  {
   "cell_type": "code",
   "execution_count": 1,
   "metadata": {},
   "outputs": [],
   "source": [
    "#Finding a way to scrappe all lines, theres a problem because the page don't render everything (js action needed)"
   ]
  }
 ],
 "metadata": {
  "kernelspec": {
   "display_name": "Python 3",
   "language": "python",
   "name": "python3"
  },
  "language_info": {
   "codemirror_mode": {
    "name": "ipython",
    "version": 3
   },
   "file_extension": ".py",
   "mimetype": "text/x-python",
   "name": "python",
   "nbconvert_exporter": "python",
   "pygments_lexer": "ipython3",
   "version": "3.8.3"
  }
 },
 "nbformat": 4,
 "nbformat_minor": 4
}
