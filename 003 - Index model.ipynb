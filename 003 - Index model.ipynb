{
 "cells": [
  {
   "cell_type": "code",
   "execution_count": 2,
   "metadata": {},
   "outputs": [],
   "source": [
    "import numpy as np\n",
    "import pandas as pd\n",
    "import matplotlib.pyplot as plt\n",
    "%matplotlib inline"
   ]
  },
  {
   "cell_type": "markdown",
   "metadata": {},
   "source": [
    "### 1- data mining"
   ]
  },
  {
   "cell_type": "code",
   "execution_count": 13,
   "metadata": {},
   "outputs": [],
   "source": [
    "import datetime "
   ]
  },
  {
   "cell_type": "code",
   "execution_count": null,
   "metadata": {},
   "outputs": [],
   "source": [
    "pd.to_datetime(ind.index, format = \"%Y%m\").to_period('M')"
   ]
  },
  {
   "cell_type": "code",
   "execution_count": 14,
   "metadata": {},
   "outputs": [
    {
     "name": "stdout",
     "output_type": "stream",
     "text": [
      "Start :  2019-06-02 20:57:02.509097\n",
      "End :  2020-06-01 20:57:02.509097\n"
     ]
    }
   ],
   "source": [
    "delta_time = datetime.timedelta(days = 365)\n",
    "end = datetime.datetime.now()\n",
    "start = end - delta_time\n",
    "print(\"Start : \" ,start)\n",
    "print(\"End : \", end)\n"
   ]
  },
  {
   "cell_type": "markdown",
   "metadata": {},
   "source": [
    "\n",
    "ind.index = pd.to_datetime(ind.index, format = \"%Y%m\").to_period('M')\n"
   ]
  },
  {
   "cell_type": "code",
   "execution_count": 12,
   "metadata": {},
   "outputs": [],
   "source": [
    "tickers = \"^NDQ ^BVP ^DJI ^SPX ^CAC ^DAX ^NKX ^HSI\".split()\n",
    "ticker_names = \"Nasdaq Bovespa Down_Jones_ind SP500 CAC40 DAX Nikkey225 Hang_Seng\".split()"
   ]
  },
  {
   "cell_type": "code",
   "execution_count": 29,
   "metadata": {},
   "outputs": [],
   "source": [
    "df_close_01 = pd.read_csv('../EDHEC/1- Returns/index01_close.csv', index_col= 0, parse_dates=True)"
   ]
  },
  {
   "cell_type": "code",
   "execution_count": 32,
   "metadata": {},
   "outputs": [
    {
     "data": {
      "text/html": [
       "<div>\n",
       "<style scoped>\n",
       "    .dataframe tbody tr th:only-of-type {\n",
       "        vertical-align: middle;\n",
       "    }\n",
       "\n",
       "    .dataframe tbody tr th {\n",
       "        vertical-align: top;\n",
       "    }\n",
       "\n",
       "    .dataframe thead th {\n",
       "        text-align: right;\n",
       "    }\n",
       "</style>\n",
       "<table border=\"1\" class=\"dataframe\">\n",
       "  <thead>\n",
       "    <tr style=\"text-align: right;\">\n",
       "      <th></th>\n",
       "      <th>Nasdaq</th>\n",
       "      <th>Bovespa</th>\n",
       "      <th>Down_Jones_ind</th>\n",
       "      <th>SP500</th>\n",
       "      <th>CAC40</th>\n",
       "      <th>DAX</th>\n",
       "      <th>Nikkey225</th>\n",
       "      <th>Hang_Seng</th>\n",
       "    </tr>\n",
       "    <tr>\n",
       "      <th>Date</th>\n",
       "      <th></th>\n",
       "      <th></th>\n",
       "      <th></th>\n",
       "      <th></th>\n",
       "      <th></th>\n",
       "      <th></th>\n",
       "      <th></th>\n",
       "      <th></th>\n",
       "    </tr>\n",
       "  </thead>\n",
       "  <tbody>\n",
       "    <tr>\n",
       "      <th>2019-04-08</th>\n",
       "      <td>7953.880</td>\n",
       "      <td>97369.29</td>\n",
       "      <td>26341.02</td>\n",
       "      <td>2895.77</td>\n",
       "      <td>5471.78</td>\n",
       "      <td>11963.40</td>\n",
       "      <td>21761.65</td>\n",
       "      <td>30077.15</td>\n",
       "    </tr>\n",
       "    <tr>\n",
       "      <th>2019-04-09</th>\n",
       "      <td>7909.280</td>\n",
       "      <td>96291.79</td>\n",
       "      <td>26150.58</td>\n",
       "      <td>2878.20</td>\n",
       "      <td>5436.42</td>\n",
       "      <td>11850.57</td>\n",
       "      <td>21802.59</td>\n",
       "      <td>30157.49</td>\n",
       "    </tr>\n",
       "    <tr>\n",
       "      <th>2019-04-10</th>\n",
       "      <td>7964.240</td>\n",
       "      <td>95953.45</td>\n",
       "      <td>26157.16</td>\n",
       "      <td>2888.21</td>\n",
       "      <td>5449.88</td>\n",
       "      <td>11905.91</td>\n",
       "      <td>21687.57</td>\n",
       "      <td>30119.56</td>\n",
       "    </tr>\n",
       "    <tr>\n",
       "      <th>2019-04-11</th>\n",
       "      <td>7947.360</td>\n",
       "      <td>94754.70</td>\n",
       "      <td>26143.05</td>\n",
       "      <td>2888.32</td>\n",
       "      <td>5485.72</td>\n",
       "      <td>11935.20</td>\n",
       "      <td>21711.38</td>\n",
       "      <td>29839.45</td>\n",
       "    </tr>\n",
       "    <tr>\n",
       "      <th>2019-04-12</th>\n",
       "      <td>7984.160</td>\n",
       "      <td>92875.00</td>\n",
       "      <td>26412.30</td>\n",
       "      <td>2907.41</td>\n",
       "      <td>5502.70</td>\n",
       "      <td>11999.93</td>\n",
       "      <td>21870.56</td>\n",
       "      <td>29909.76</td>\n",
       "    </tr>\n",
       "    <tr>\n",
       "      <th>...</th>\n",
       "      <td>...</td>\n",
       "      <td>...</td>\n",
       "      <td>...</td>\n",
       "      <td>...</td>\n",
       "      <td>...</td>\n",
       "      <td>...</td>\n",
       "      <td>...</td>\n",
       "      <td>...</td>\n",
       "    </tr>\n",
       "    <tr>\n",
       "      <th>2020-03-30</th>\n",
       "      <td>7774.151</td>\n",
       "      <td>74639.50</td>\n",
       "      <td>22327.48</td>\n",
       "      <td>2626.65</td>\n",
       "      <td>4378.51</td>\n",
       "      <td>9815.97</td>\n",
       "      <td>19084.97</td>\n",
       "      <td>23175.11</td>\n",
       "    </tr>\n",
       "    <tr>\n",
       "      <th>2020-03-31</th>\n",
       "      <td>7700.098</td>\n",
       "      <td>73019.80</td>\n",
       "      <td>21917.16</td>\n",
       "      <td>2584.59</td>\n",
       "      <td>4396.12</td>\n",
       "      <td>9935.84</td>\n",
       "      <td>18917.01</td>\n",
       "      <td>23603.48</td>\n",
       "    </tr>\n",
       "    <tr>\n",
       "      <th>2020-04-01</th>\n",
       "      <td>7360.582</td>\n",
       "      <td>70966.70</td>\n",
       "      <td>20943.51</td>\n",
       "      <td>2470.50</td>\n",
       "      <td>4207.24</td>\n",
       "      <td>9544.75</td>\n",
       "      <td>18065.41</td>\n",
       "      <td>23085.79</td>\n",
       "    </tr>\n",
       "    <tr>\n",
       "      <th>2020-04-02</th>\n",
       "      <td>7487.311</td>\n",
       "      <td>72253.50</td>\n",
       "      <td>21413.44</td>\n",
       "      <td>2526.90</td>\n",
       "      <td>4220.96</td>\n",
       "      <td>9570.82</td>\n",
       "      <td>17818.72</td>\n",
       "      <td>23280.06</td>\n",
       "    </tr>\n",
       "    <tr>\n",
       "      <th>2020-04-03</th>\n",
       "      <td>7373.082</td>\n",
       "      <td>69537.60</td>\n",
       "      <td>21052.53</td>\n",
       "      <td>2488.65</td>\n",
       "      <td>4154.58</td>\n",
       "      <td>9525.77</td>\n",
       "      <td>17820.19</td>\n",
       "      <td>23236.11</td>\n",
       "    </tr>\n",
       "  </tbody>\n",
       "</table>\n",
       "<p>251 rows × 8 columns</p>\n",
       "</div>"
      ],
      "text/plain": [
       "              Nasdaq   Bovespa  Down_Jones_ind    SP500    CAC40       DAX  \\\n",
       "Date                                                                         \n",
       "2019-04-08  7953.880  97369.29        26341.02  2895.77  5471.78  11963.40   \n",
       "2019-04-09  7909.280  96291.79        26150.58  2878.20  5436.42  11850.57   \n",
       "2019-04-10  7964.240  95953.45        26157.16  2888.21  5449.88  11905.91   \n",
       "2019-04-11  7947.360  94754.70        26143.05  2888.32  5485.72  11935.20   \n",
       "2019-04-12  7984.160  92875.00        26412.30  2907.41  5502.70  11999.93   \n",
       "...              ...       ...             ...      ...      ...       ...   \n",
       "2020-03-30  7774.151  74639.50        22327.48  2626.65  4378.51   9815.97   \n",
       "2020-03-31  7700.098  73019.80        21917.16  2584.59  4396.12   9935.84   \n",
       "2020-04-01  7360.582  70966.70        20943.51  2470.50  4207.24   9544.75   \n",
       "2020-04-02  7487.311  72253.50        21413.44  2526.90  4220.96   9570.82   \n",
       "2020-04-03  7373.082  69537.60        21052.53  2488.65  4154.58   9525.77   \n",
       "\n",
       "            Nikkey225  Hang_Seng  \n",
       "Date                              \n",
       "2019-04-08   21761.65   30077.15  \n",
       "2019-04-09   21802.59   30157.49  \n",
       "2019-04-10   21687.57   30119.56  \n",
       "2019-04-11   21711.38   29839.45  \n",
       "2019-04-12   21870.56   29909.76  \n",
       "...               ...        ...  \n",
       "2020-03-30   19084.97   23175.11  \n",
       "2020-03-31   18917.01   23603.48  \n",
       "2020-04-01   18065.41   23085.79  \n",
       "2020-04-02   17818.72   23280.06  \n",
       "2020-04-03   17820.19   23236.11  \n",
       "\n",
       "[251 rows x 8 columns]"
      ]
     },
     "execution_count": 32,
     "metadata": {},
     "output_type": "execute_result"
    }
   ],
   "source": [
    "df_close_01"
   ]
  },
  {
   "cell_type": "code",
   "execution_count": 28,
   "metadata": {},
   "outputs": [
    {
     "data": {
      "text/plain": [
       "Date\n",
       "2019-04-08    203833.940\n",
       "2019-04-09    202476.920\n",
       "2019-04-10    202125.980\n",
       "2019-04-11    200705.180\n",
       "2019-04-12    199461.820\n",
       "                 ...    \n",
       "2020-03-30    163822.341\n",
       "2020-03-31    162074.098\n",
       "2020-04-01    156644.482\n",
       "2020-04-02    158571.711\n",
       "2020-04-03    155188.512\n",
       "Length: 251, dtype: float64"
      ]
     },
     "execution_count": 28,
     "metadata": {},
     "output_type": "execute_result"
    }
   ],
   "source": [
    "df_close_01.sum(axis = 1)"
   ]
  }
 ],
 "metadata": {
  "kernelspec": {
   "display_name": "Python 3",
   "language": "python",
   "name": "python3"
  },
  "language_info": {
   "codemirror_mode": {
    "name": "ipython",
    "version": 3
   },
   "file_extension": ".py",
   "mimetype": "text/x-python",
   "name": "python",
   "nbconvert_exporter": "python",
   "pygments_lexer": "ipython3",
   "version": "3.7.3"
  }
 },
 "nbformat": 4,
 "nbformat_minor": 4
}
