{
 "cells": [
  {
   "cell_type": "code",
   "execution_count": 1,
   "metadata": {},
   "outputs": [],
   "source": [
    "import numpy as np\n",
    "import pandas as pd\n",
    "import matplotlib.pyplot as plt\n",
    "%matplotlib inline"
   ]
  },
  {
   "cell_type": "markdown",
   "metadata": {},
   "source": [
    "# in this notebook we're going to see:\n",
    "<ul>\n",
    "    <li>how to solve a liner equation system using numpy (Cramer's rule)</li>\n",
    "    <li>latex functions on jupyter</li>\n",
    "    \n",
    "</ul>    \n",
    "\n",
    "<p> <b>fonts: </b> </p>\n",
    "\n",
    "<p>https://towardsdatascience.com/write-markdown-latex-in-the-jupyter-notebook-10985edb91fd </p>\n",
    "<p>https://www.youtube.com/watch?v=oGYDPxcNMmw&list=PLxI8Can9yAHdUtWDKtTA9AmuICNyX9EIr&index=6&t=0s</p>\n"
   ]
  },
  {
   "cell_type": "markdown",
   "metadata": {},
   "source": [
    "### problem to solve:"
   ]
  },
  {
   "cell_type": "markdown",
   "metadata": {},
   "source": [
    "\\begin{equation}\n",
    "  \\begin{pmatrix}\n",
    "    5 & 4 & 3 & 2\\\\\n",
    "    4 & 2 & 6 & 3\\\\\n",
    "    3 & 1 & 7 & 5\\\\\n",
    "    2 & 3 & 5 & 1\n",
    "   \\end{pmatrix}\n",
    "  \\cdot\n",
    "  %\n",
    "  \\begin{pmatrix}\n",
    "    x_1 \\\\\n",
    "    x_2 \\\\\n",
    "    x_3 \\\\\n",
    "    x_4 \\\\\n",
    "  \\end{pmatrix}\n",
    "  =\n",
    "  %\n",
    "   \\begin{pmatrix}\n",
    "    1496 \\\\\n",
    "    1175 \\\\\n",
    "    958 \\\\\n",
    "    861 \\\\\n",
    "  \\end{pmatrix} \n",
    "\\end{equation}"
   ]
  },
  {
   "cell_type": "markdown",
   "metadata": {},
   "source": [
    "### 1) creating the matrix"
   ]
  },
  {
   "cell_type": "code",
   "execution_count": 19,
   "metadata": {},
   "outputs": [
    {
     "name": "stdout",
     "output_type": "stream",
     "text": [
      "92.99999999999994\n"
     ]
    },
    {
     "data": {
      "text/plain": [
       "matrix([[5, 4, 3, 2],\n",
       "        [4, 2, 6, 3],\n",
       "        [3, 1, 7, 5],\n",
       "        [2, 3, 5, 1]])"
      ]
     },
     "execution_count": 19,
     "metadata": {},
     "output_type": "execute_result"
    }
   ],
   "source": [
    "matrix = np.matrix([[5,4,3,2],\n",
    "                    [4,2,6,3],\n",
    "                    [3,1,7,5],\n",
    "                    [2,3,5,1]])\n",
    "det_matrix = np.linalg.det(matrix)\n",
    "print(det_matrix)\n",
    "matrix"
   ]
  },
  {
   "cell_type": "code",
   "execution_count": 20,
   "metadata": {},
   "outputs": [
    {
     "data": {
      "text/plain": [
       "matrix([[1496],\n",
       "        [1175],\n",
       "        [ 958],\n",
       "        [ 861]])"
      ]
     },
     "execution_count": 20,
     "metadata": {},
     "output_type": "execute_result"
    }
   ],
   "source": [
    "response = np.matrix([1496,1175,958,861]).T\n",
    "response"
   ]
  },
  {
   "cell_type": "code",
   "execution_count": 22,
   "metadata": {},
   "outputs": [
    {
     "name": "stdout",
     "output_type": "stream",
     "text": [
      "16460.999999999985\n"
     ]
    },
    {
     "data": {
      "text/plain": [
       "matrix([[1496,    4,    3,    2],\n",
       "        [1175,    2,    6,    3],\n",
       "        [ 958,    1,    7,    5],\n",
       "        [ 861,    3,    5,    1]])"
      ]
     },
     "execution_count": 22,
     "metadata": {},
     "output_type": "execute_result"
    }
   ],
   "source": [
    "a = matrix.copy()\n",
    "a[:,0] = response\n",
    "det_a = np.linalg.det(a)\n",
    "print(det_a)\n",
    "a"
   ]
  },
  {
   "cell_type": "code",
   "execution_count": 24,
   "metadata": {},
   "outputs": [
    {
     "name": "stdout",
     "output_type": "stream",
     "text": [
      "11252.999999999987\n"
     ]
    },
    {
     "data": {
      "text/plain": [
       "matrix([[   5, 1496,    3,    2],\n",
       "        [   4, 1175,    6,    3],\n",
       "        [   3,  958,    7,    5],\n",
       "        [   2,  861,    5,    1]])"
      ]
     },
     "execution_count": 24,
     "metadata": {},
     "output_type": "execute_result"
    }
   ],
   "source": [
    "b = matrix.copy()\n",
    "b[:,1]= response\n",
    "det_b = np.linalg.det(b)\n",
    "print(det_b)\n",
    "b"
   ]
  },
  {
   "cell_type": "code",
   "execution_count": 26,
   "metadata": {},
   "outputs": [
    {
     "name": "stdout",
     "output_type": "stream",
     "text": [
      "2139.000000000001\n"
     ]
    },
    {
     "data": {
      "text/plain": [
       "matrix([[   5,    4, 1496,    2],\n",
       "        [   4,    2, 1175,    3],\n",
       "        [   3,    1,  958,    5],\n",
       "        [   2,    3,  861,    1]])"
      ]
     },
     "execution_count": 26,
     "metadata": {},
     "output_type": "execute_result"
    }
   ],
   "source": [
    "c = matrix.copy()\n",
    "c[:,2]= response\n",
    "det_c = np.linalg.det(c)\n",
    "print(det_c)\n",
    "c"
   ]
  },
  {
   "cell_type": "code",
   "execution_count": 28,
   "metadata": {},
   "outputs": [
    {
     "name": "stdout",
     "output_type": "stream",
     "text": [
      "2696.999999999988\n"
     ]
    },
    {
     "data": {
      "text/plain": [
       "matrix([[   5,    4,    3, 1496],\n",
       "        [   4,    2,    6, 1175],\n",
       "        [   3,    1,    7,  958],\n",
       "        [   2,    3,    5,  861]])"
      ]
     },
     "execution_count": 28,
     "metadata": {},
     "output_type": "execute_result"
    }
   ],
   "source": [
    "d = matrix.copy()\n",
    "d[:,3]= response\n",
    "det_d = np.linalg.det(d)\n",
    "print(det_d)\n",
    "d"
   ]
  },
  {
   "cell_type": "markdown",
   "metadata": {},
   "source": [
    "### 2) calculate the coefs"
   ]
  },
  {
   "cell_type": "code",
   "execution_count": 32,
   "metadata": {},
   "outputs": [
    {
     "name": "stdout",
     "output_type": "stream",
     "text": [
      "coef a : 176.99999999999994\n",
      "coef b : 120.99999999999994\n",
      "coef c : 23.000000000000025\n",
      "coef d : 28.99999999999989\n"
     ]
    }
   ],
   "source": [
    "coef_a = det_a/det_matrix\n",
    "coef_b = det_b/det_matrix\n",
    "coef_c = det_c/det_matrix\n",
    "coef_d = det_d/det_matrix\n",
    "print('coef a :' , coef_a)\n",
    "print('coef b :' , coef_b)\n",
    "print('coef c :' , coef_c)\n",
    "print('coef d :' , coef_d)"
   ]
  }
 ],
 "metadata": {
  "kernelspec": {
   "display_name": "Python 3",
   "language": "python",
   "name": "python3"
  },
  "language_info": {
   "codemirror_mode": {
    "name": "ipython",
    "version": 3
   },
   "file_extension": ".py",
   "mimetype": "text/x-python",
   "name": "python",
   "nbconvert_exporter": "python",
   "pygments_lexer": "ipython3",
   "version": "3.7.3"
  }
 },
 "nbformat": 4,
 "nbformat_minor": 4
}
