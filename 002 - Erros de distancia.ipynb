{
 "cells": [
  {
   "cell_type": "code",
   "execution_count": 324,
   "metadata": {},
   "outputs": [],
   "source": [
    "import numpy as np\n",
    "import pandas as pd\n",
    "import matplotlib.pyplot as plt\n",
    "%matplotlib inline"
   ]
  },
  {
   "cell_type": "markdown",
   "metadata": {},
   "source": [
    "# Calculo de erro em medidas com trena\n",
    "<p> estimando barriga da trena de 0 a 10 cm no meio </p>\n",
    "<p> estimando como sendo uma linha reta </p>"
   ]
  },
  {
   "cell_type": "markdown",
   "metadata": {},
   "source": [
    "<ul>\n",
    "    <li>Criando funções</li>\n",
    "    <li>Criando DataFrame</li>\n",
    "    <li>Utilizando Apply pra criar novas colunas</li>\n",
    "</ul>"
   ]
  },
  {
   "cell_type": "code",
   "execution_count": 4,
   "metadata": {},
   "outputs": [
    {
     "name": "stdout",
     "output_type": "stream",
     "text": [
      "[0, 1, 2, 3, 4, 5, 6, 7, 8, 9, 10, 11, 12, 13, 14, 15, 16, 17, 18, 19, 20, 21, 22, 23, 24, 25, 26, 27, 28, 29, 30, 31, 32, 33, 34, 35, 36, 37, 38, 39, 40, 41, 42, 43, 44, 45, 46, 47, 48, 49, 50, 51, 52, 53, 54, 55, 56, 57, 58, 59, 60, 61, 62, 63, 64, 65, 66, 67, 68, 69, 70, 71, 72, 73, 74, 75, 76, 77, 78, 79, 80, 81, 82, 83, 84, 85, 86, 87, 88, 89, 90, 91, 92, 93, 94, 95, 96, 97, 98, 99, 100]\n"
     ]
    }
   ],
   "source": [
    "x = [x for x in range(101)]\n",
    "print(x)\n"
   ]
  },
  {
   "cell_type": "code",
   "execution_count": 325,
   "metadata": {},
   "outputs": [],
   "source": [
    "dist = 30\n",
    "alt = 1"
   ]
  },
  {
   "cell_type": "markdown",
   "metadata": {},
   "source": [
    "### Calculando Coeficientes de uma parábola f(x) = ax²+bx+c"
   ]
  },
  {
   "cell_type": "markdown",
   "metadata": {},
   "source": [
    "### main matrix"
   ]
  },
  {
   "cell_type": "code",
   "execution_count": 7,
   "metadata": {},
   "outputs": [],
   "source": [
    "m1 = np.matrix([[0,0,1],[(dist/2)**2,dist/2,1],[(dist*dist),dist,1]])\n",
    "ma = "
   ]
  },
  {
   "cell_type": "code",
   "execution_count": 44,
   "metadata": {},
   "outputs": [],
   "source": [
    "det_m1 = np.linalg.det(m1)"
   ]
  },
  {
   "cell_type": "code",
   "execution_count": 30,
   "metadata": {},
   "outputs": [],
   "source": [
    "mr= np.matrix([alt,0,alt]).T"
   ]
  },
  {
   "cell_type": "code",
   "execution_count": 31,
   "metadata": {},
   "outputs": [
    {
     "data": {
      "text/plain": [
       "(3, 1)"
      ]
     },
     "execution_count": 31,
     "metadata": {},
     "output_type": "execute_result"
    }
   ],
   "source": [
    "mr.shape"
   ]
  },
  {
   "cell_type": "markdown",
   "metadata": {},
   "source": [
    "### a matrix "
   ]
  },
  {
   "cell_type": "code",
   "execution_count": 39,
   "metadata": {},
   "outputs": [],
   "source": [
    "ma = m1.copy()"
   ]
  },
  {
   "cell_type": "markdown",
   "metadata": {},
   "source": [
    "replacing first column "
   ]
  },
  {
   "cell_type": "code",
   "execution_count": 40,
   "metadata": {},
   "outputs": [
    {
     "data": {
      "text/plain": [
       "matrix([[ 1.,  0.,  1.],\n",
       "        [ 0., 15.,  1.],\n",
       "        [ 1., 30.,  1.]])"
      ]
     },
     "execution_count": 40,
     "metadata": {},
     "output_type": "execute_result"
    }
   ],
   "source": [
    "ma[:,0] = mr\n",
    "ma"
   ]
  },
  {
   "cell_type": "markdown",
   "metadata": {},
   "source": [
    "calculating det "
   ]
  },
  {
   "cell_type": "code",
   "execution_count": 41,
   "metadata": {},
   "outputs": [
    {
     "data": {
      "text/plain": [
       "-30.000000000000004"
      ]
     },
     "execution_count": 41,
     "metadata": {},
     "output_type": "execute_result"
    }
   ],
   "source": [
    "det_a = np.linalg.det(a)\n",
    "det_a"
   ]
  },
  {
   "cell_type": "markdown",
   "metadata": {},
   "source": [
    "calculating a coef"
   ]
  },
  {
   "cell_type": "code",
   "execution_count": 45,
   "metadata": {},
   "outputs": [
    {
     "data": {
      "text/plain": [
       "0.004444444444444447"
      ]
     },
     "execution_count": 45,
     "metadata": {},
     "output_type": "execute_result"
    }
   ],
   "source": [
    "coef_a = det_a /det_m1\n",
    "coef_a"
   ]
  },
  {
   "cell_type": "markdown",
   "metadata": {},
   "source": [
    "### b matrix "
   ]
  },
  {
   "cell_type": "code",
   "execution_count": 48,
   "metadata": {},
   "outputs": [
    {
     "data": {
      "text/plain": [
       "matrix([[  0.,   1.,   1.],\n",
       "        [225.,   0.,   1.],\n",
       "        [900.,   1.,   1.]])"
      ]
     },
     "execution_count": 48,
     "metadata": {},
     "output_type": "execute_result"
    }
   ],
   "source": [
    "mb = m1.copy()\n",
    "mb[:,1] = mr\n",
    "mb"
   ]
  },
  {
   "cell_type": "code",
   "execution_count": 49,
   "metadata": {},
   "outputs": [
    {
     "data": {
      "text/plain": [
       "900.0000000000001"
      ]
     },
     "execution_count": 49,
     "metadata": {},
     "output_type": "execute_result"
    }
   ],
   "source": [
    "det_b = np.linalg.det(mb)\n",
    "det_b"
   ]
  },
  {
   "cell_type": "code",
   "execution_count": 52,
   "metadata": {},
   "outputs": [
    {
     "data": {
      "text/plain": [
       "-0.13333333333333341"
      ]
     },
     "execution_count": 52,
     "metadata": {},
     "output_type": "execute_result"
    }
   ],
   "source": [
    "coef_b = det_b/det_m1\n",
    "coef_b"
   ]
  },
  {
   "cell_type": "markdown",
   "metadata": {},
   "source": [
    "### c matrix "
   ]
  },
  {
   "cell_type": "code",
   "execution_count": 54,
   "metadata": {},
   "outputs": [
    {
     "data": {
      "text/plain": [
       "matrix([[  0.,   0.,   1.],\n",
       "        [225.,  15.,   0.],\n",
       "        [900.,  30.,   1.]])"
      ]
     },
     "execution_count": 54,
     "metadata": {},
     "output_type": "execute_result"
    }
   ],
   "source": [
    "mc = m1.copy()\n",
    "mc[:,2] = mr\n",
    "mc"
   ]
  },
  {
   "cell_type": "code",
   "execution_count": 55,
   "metadata": {},
   "outputs": [
    {
     "data": {
      "text/plain": [
       "-6749.999999999997"
      ]
     },
     "execution_count": 55,
     "metadata": {},
     "output_type": "execute_result"
    }
   ],
   "source": [
    "det_c = np.linalg.det(mc)\n",
    "det_c"
   ]
  },
  {
   "cell_type": "code",
   "execution_count": 58,
   "metadata": {},
   "outputs": [
    {
     "data": {
      "text/plain": [
       "1.0"
      ]
     },
     "execution_count": 58,
     "metadata": {},
     "output_type": "execute_result"
    }
   ],
   "source": [
    "coef_c = det_c/det_m1\n",
    "coef_c"
   ]
  },
  {
   "cell_type": "code",
   "execution_count": 67,
   "metadata": {},
   "outputs": [],
   "source": [
    "def aabc(x):\n",
    "    return (coef_a*x**2 +coef_b*x +coef_c)"
   ]
  },
  {
   "cell_type": "code",
   "execution_count": 129,
   "metadata": {},
   "outputs": [],
   "source": [
    "def return_coef (dist_horizontal,alt_error=0.01):\n",
    "    \"\"\"\n",
    "    data distanciância horizontal medida entre os pontos e a altura da barriga, retorna a algura dentro da parabola\n",
    "    dist= distancia horizontal\n",
    "    alt_error = altura da barriga no ponto médio\n",
    "    ps: para plotar no matplot\n",
    "    \n",
    "    \n",
    "    \n",
    "    \n",
    "    \"\"\"\n",
    "    #1) definindo matriz principal e det_m1\n",
    "    m1 = np.matrix([[0,0,1],\n",
    "                    [(dist_horizontal/2)**2,dist/2,1]\n",
    "                    ,[(dist_horizontal**2),dist_horizontal,1]])\n",
    "    \n",
    "    det_m1 = np.linalg.det(m1)\n",
    "    #2) definindo igualdade\n",
    "    mr = np.matrix([alt_error,0,alt_error]).T\n",
    "    \n",
    "    def return_coef(n):\n",
    "        \"\"\"\n",
    "        return coef dado posição a,b,c\n",
    "        \"\"\"\n",
    "        mx = m1.copy()\n",
    "        mx[:,n] = mr\n",
    "        det_x = np.linalg.det(mx)\n",
    "        return det_x/det_m1\n",
    "    \n",
    "    coef_a = return_coef(0)\n",
    "    coef_b = return_coef(1)\n",
    "    coef_c = return_coef(2)\n",
    "  \n",
    "    \n",
    "    return (coef_a,coef_b,coef_c)   \n",
    "    "
   ]
  },
  {
   "cell_type": "code",
   "execution_count": 130,
   "metadata": {},
   "outputs": [],
   "source": [
    "def return_y (x):\n",
    "    \"\"\"\n",
    "    dado os coeficientes retorna o  y da parabola\"\"\"\n",
    "    a,b,c = return_coef(30)\n",
    "    \n",
    "    return (a*x**2 +b*x +c)"
   ]
  },
  {
   "cell_type": "code",
   "execution_count": 131,
   "metadata": {},
   "outputs": [],
   "source": [
    "y = list(map(return_y,x[:31]))"
   ]
  },
  {
   "cell_type": "code",
   "execution_count": 326,
   "metadata": {},
   "outputs": [
    {
     "data": {
      "text/plain": [
       "[<matplotlib.lines.Line2D at 0x23e851495f8>]"
      ]
     },
     "execution_count": 326,
     "metadata": {},
     "output_type": "execute_result"
    },
    {
     "data": {
      "image/png": "[encoded data removed]",
      "text/plain": [
       "<Figure size 864x216 with 1 Axes>"
      ]
     },
     "metadata": {
      "needs_background": "light"
     },
     "output_type": "display_data"
    }
   ],
   "source": [
    "plt.figure(figsize = (12,3))\n",
    "plt.plot(x[:31],y)"
   ]
  },
  {
   "cell_type": "markdown",
   "metadata": {},
   "source": [
    "#### Criação da função de erro de curvatura (tamanho da curvatura - real)"
   ]
  },
  {
   "cell_type": "markdown",
   "metadata": {},
   "source": [
    "### curvature error"
   ]
  },
  {
   "cell_type": "code",
   "execution_count": 314,
   "metadata": {},
   "outputs": [
    {
     "data": {
      "text/plain": [
       "0.0002666027032094398"
      ]
     },
     "execution_count": 314,
     "metadata": {},
     "output_type": "execute_result"
    }
   ],
   "source": [
    "curvature(1,0.01)"
   ]
  },
  {
   "cell_type": "code",
   "execution_count": 327,
   "metadata": {},
   "outputs": [],
   "source": [
    "def curvature (dist, alt):\n",
    "    \n",
    "    m1 = np.matrix([[0,0,1],\n",
    "                    [(dist/2)**2,dist/2,1]\n",
    "                    ,[(dist**2),dist,1]])\n",
    "    \n",
    "    det_m1 = np.linalg.det(m1)\n",
    "    \n",
    "    mr = np.matrix([alt,0,alt]).T\n",
    "    \n",
    "    def return_coef(n):\n",
    "        \"\"\"\n",
    "        return coef dado posição a,b,c\n",
    "        \"\"\"\n",
    "        mx = m1.copy()\n",
    "        mx[:,n] = mr\n",
    "        det_x = np.linalg.det(mx)\n",
    "        return det_x/det_m1\n",
    "    \n",
    "    a = return_coef(0)\n",
    "    b = return_coef(1)\n",
    "    c = return_coef(2)\n",
    "    \n",
    "    ea = np.sqrt(((2*a*dist+b)**2+1))\n",
    "    eb = (2*a*dist+b)\n",
    "    ec = np.arcsinh(2*a*dist+b)\n",
    "    ed = 4*a\n",
    "    \n",
    "    nea = np.sqrt(((b)**2+1))\n",
    "    neb=(+b)\n",
    "    nec = np.arcsinh(b)\n",
    "    ned = 4*a\n",
    "    \n",
    "                 \n",
    "    \n",
    "    \n",
    "    \n",
    "    error = (ea*eb+ec)/ed- (nea*neb+nec)/ned\n",
    "    \n",
    "    \n",
    "    \n",
    "    \n",
    "    return error-dist\n",
    "\n",
    "  "
   ]
  },
  {
   "cell_type": "markdown",
   "metadata": {},
   "source": [
    "### estimando erro como retas"
   ]
  },
  {
   "cell_type": "code",
   "execution_count": 328,
   "metadata": {},
   "outputs": [],
   "source": [
    "def err_hipotenusa(dist,alt):\n",
    "    return 2*(np.sqrt((dist/2)**2+alt**2))"
   ]
  },
  {
   "cell_type": "markdown",
   "metadata": {},
   "source": [
    "### Utilizando Apply em 2 colunas"
   ]
  },
  {
   "cell_type": "code",
   "execution_count": 165,
   "metadata": {},
   "outputs": [],
   "source": [
    "a =np.array([x for x in range(10)])"
   ]
  },
  {
   "cell_type": "code",
   "execution_count": 172,
   "metadata": {},
   "outputs": [],
   "source": [
    "b = 2*a"
   ]
  },
  {
   "cell_type": "code",
   "execution_count": 184,
   "metadata": {},
   "outputs": [],
   "source": [
    "d_ab = {'a':a,'b':b}"
   ]
  },
  {
   "cell_type": "code",
   "execution_count": 188,
   "metadata": {},
   "outputs": [
    {
     "data": {
      "text/html": [
       "<div>\n",
       "<style scoped>\n",
       "    .dataframe tbody tr th:only-of-type {\n",
       "        vertical-align: middle;\n",
       "    }\n",
       "\n",
       "    .dataframe tbody tr th {\n",
       "        vertical-align: top;\n",
       "    }\n",
       "\n",
       "    .dataframe thead th {\n",
       "        text-align: right;\n",
       "    }\n",
       "</style>\n",
       "<table border=\"1\" class=\"dataframe\">\n",
       "  <thead>\n",
       "    <tr style=\"text-align: right;\">\n",
       "      <th></th>\n",
       "      <th>a</th>\n",
       "      <th>b</th>\n",
       "    </tr>\n",
       "  </thead>\n",
       "  <tbody>\n",
       "    <tr>\n",
       "      <th>0</th>\n",
       "      <td>0</td>\n",
       "      <td>0</td>\n",
       "    </tr>\n",
       "    <tr>\n",
       "      <th>1</th>\n",
       "      <td>1</td>\n",
       "      <td>2</td>\n",
       "    </tr>\n",
       "    <tr>\n",
       "      <th>2</th>\n",
       "      <td>2</td>\n",
       "      <td>4</td>\n",
       "    </tr>\n",
       "    <tr>\n",
       "      <th>3</th>\n",
       "      <td>3</td>\n",
       "      <td>6</td>\n",
       "    </tr>\n",
       "    <tr>\n",
       "      <th>4</th>\n",
       "      <td>4</td>\n",
       "      <td>8</td>\n",
       "    </tr>\n",
       "    <tr>\n",
       "      <th>5</th>\n",
       "      <td>5</td>\n",
       "      <td>10</td>\n",
       "    </tr>\n",
       "    <tr>\n",
       "      <th>6</th>\n",
       "      <td>6</td>\n",
       "      <td>12</td>\n",
       "    </tr>\n",
       "    <tr>\n",
       "      <th>7</th>\n",
       "      <td>7</td>\n",
       "      <td>14</td>\n",
       "    </tr>\n",
       "    <tr>\n",
       "      <th>8</th>\n",
       "      <td>8</td>\n",
       "      <td>16</td>\n",
       "    </tr>\n",
       "    <tr>\n",
       "      <th>9</th>\n",
       "      <td>9</td>\n",
       "      <td>18</td>\n",
       "    </tr>\n",
       "  </tbody>\n",
       "</table>\n",
       "</div>"
      ],
      "text/plain": [
       "   a   b\n",
       "0  0   0\n",
       "1  1   2\n",
       "2  2   4\n",
       "3  3   6\n",
       "4  4   8\n",
       "5  5  10\n",
       "6  6  12\n",
       "7  7  14\n",
       "8  8  16\n",
       "9  9  18"
      ]
     },
     "execution_count": 188,
     "metadata": {},
     "output_type": "execute_result"
    }
   ],
   "source": [
    "df_ab = pd.DataFrame(d_ab)\n",
    "df_ab"
   ]
  },
  {
   "cell_type": "code",
   "execution_count": 191,
   "metadata": {},
   "outputs": [],
   "source": [
    "def a_b(x):\n",
    "    return x[0]+x[1]"
   ]
  },
  {
   "cell_type": "code",
   "execution_count": 192,
   "metadata": {},
   "outputs": [
    {
     "data": {
      "text/plain": [
       "0     0\n",
       "1     3\n",
       "2     6\n",
       "3     9\n",
       "4    12\n",
       "5    15\n",
       "6    18\n",
       "7    21\n",
       "8    24\n",
       "9    27\n",
       "dtype: int64"
      ]
     },
     "execution_count": 192,
     "metadata": {},
     "output_type": "execute_result"
    }
   ],
   "source": [
    "df_ab.apply(a_b,axis = 1)"
   ]
  },
  {
   "cell_type": "markdown",
   "metadata": {},
   "source": [
    "# Criação do DataFrame para calcular os erros"
   ]
  },
  {
   "cell_type": "markdown",
   "metadata": {},
   "source": [
    "<p>dist de 0 a 50m separadas de 5 m</p>\n",
    "<p>alt do da barriga de 1 a 10 cm separados de 1 cm</p>"
   ]
  },
  {
   "cell_type": "code",
   "execution_count": 213,
   "metadata": {},
   "outputs": [],
   "source": [
    "dist = [x for x in range(0,51,5)]\n",
    "alt = [x for x in range(1,11,1)]\n",
    "dist =dist[1:]"
   ]
  },
  {
   "cell_type": "code",
   "execution_count": 234,
   "metadata": {
    "scrolled": true
   },
   "outputs": [],
   "source": [
    "dist_list = []\n",
    "alt_list = []\n",
    "for item in range(len(dist)):\n",
    "    for item_a in range(len(alt)):\n",
    "        #print(dist[item],alt[item_a])\n",
    "        dist_list.append(dist[item])\n",
    "        alt_list.append(alt[item_a])\n"
   ]
  },
  {
   "cell_type": "code",
   "execution_count": 245,
   "metadata": {},
   "outputs": [],
   "source": [
    "dist_alt_dict = {'distancia': np.array(dist_list)*100,\n",
    "                 'altura': alt_list}\n"
   ]
  },
  {
   "cell_type": "code",
   "execution_count": 247,
   "metadata": {},
   "outputs": [
    {
     "data": {
      "text/html": [
       "<div>\n",
       "<style scoped>\n",
       "    .dataframe tbody tr th:only-of-type {\n",
       "        vertical-align: middle;\n",
       "    }\n",
       "\n",
       "    .dataframe tbody tr th {\n",
       "        vertical-align: top;\n",
       "    }\n",
       "\n",
       "    .dataframe thead th {\n",
       "        text-align: right;\n",
       "    }\n",
       "</style>\n",
       "<table border=\"1\" class=\"dataframe\">\n",
       "  <thead>\n",
       "    <tr style=\"text-align: right;\">\n",
       "      <th></th>\n",
       "      <th>distancia</th>\n",
       "      <th>altura</th>\n",
       "    </tr>\n",
       "  </thead>\n",
       "  <tbody>\n",
       "    <tr>\n",
       "      <th>0</th>\n",
       "      <td>500</td>\n",
       "      <td>1</td>\n",
       "    </tr>\n",
       "    <tr>\n",
       "      <th>1</th>\n",
       "      <td>500</td>\n",
       "      <td>2</td>\n",
       "    </tr>\n",
       "    <tr>\n",
       "      <th>2</th>\n",
       "      <td>500</td>\n",
       "      <td>3</td>\n",
       "    </tr>\n",
       "    <tr>\n",
       "      <th>3</th>\n",
       "      <td>500</td>\n",
       "      <td>4</td>\n",
       "    </tr>\n",
       "    <tr>\n",
       "      <th>4</th>\n",
       "      <td>500</td>\n",
       "      <td>5</td>\n",
       "    </tr>\n",
       "    <tr>\n",
       "      <th>...</th>\n",
       "      <td>...</td>\n",
       "      <td>...</td>\n",
       "    </tr>\n",
       "    <tr>\n",
       "      <th>95</th>\n",
       "      <td>5000</td>\n",
       "      <td>6</td>\n",
       "    </tr>\n",
       "    <tr>\n",
       "      <th>96</th>\n",
       "      <td>5000</td>\n",
       "      <td>7</td>\n",
       "    </tr>\n",
       "    <tr>\n",
       "      <th>97</th>\n",
       "      <td>5000</td>\n",
       "      <td>8</td>\n",
       "    </tr>\n",
       "    <tr>\n",
       "      <th>98</th>\n",
       "      <td>5000</td>\n",
       "      <td>9</td>\n",
       "    </tr>\n",
       "    <tr>\n",
       "      <th>99</th>\n",
       "      <td>5000</td>\n",
       "      <td>10</td>\n",
       "    </tr>\n",
       "  </tbody>\n",
       "</table>\n",
       "<p>100 rows × 2 columns</p>\n",
       "</div>"
      ],
      "text/plain": [
       "    distancia  altura\n",
       "0         500       1\n",
       "1         500       2\n",
       "2         500       3\n",
       "3         500       4\n",
       "4         500       5\n",
       "..        ...     ...\n",
       "95       5000       6\n",
       "96       5000       7\n",
       "97       5000       8\n",
       "98       5000       9\n",
       "99       5000      10\n",
       "\n",
       "[100 rows x 2 columns]"
      ]
     },
     "execution_count": 247,
     "metadata": {},
     "output_type": "execute_result"
    }
   ],
   "source": [
    "df = pd.DataFrame(dist_alt_dict)\n",
    "df"
   ]
  },
  {
   "cell_type": "markdown",
   "metadata": {},
   "source": [
    "### erro de curvatura\n",
    "<p>Criação da função para usar apply </p>\n",
    "<p> input = df, no processo seleciona as colunas ideais</p>\n",
    "<p> retorna o valor do erro</p>"
   ]
  },
  {
   "cell_type": "code",
   "execution_count": 248,
   "metadata": {},
   "outputs": [],
   "source": [
    "def curvature_err (x):\n",
    "    \n",
    "    m1 = np.matrix([[0,0,1],\n",
    "                    [(x[0]/2)**2,x[0]/2,1]\n",
    "                    ,[(x[0]**2),x[0],1]])\n",
    "    \n",
    "    det_m1 = np.linalg.det(m1)\n",
    "    \n",
    "    mr = np.matrix([x[1],0,x[1]]).T\n",
    "    \n",
    "    def return_coef(n):\n",
    "        \"\"\"\n",
    "        return coef dado posição a,b,c\n",
    "        \"\"\"\n",
    "        mx = m1.copy()\n",
    "        mx[:,n] = mr\n",
    "        det_x = np.linalg.det(mx)\n",
    "        return det_x/det_m1\n",
    "    \n",
    "    a = return_coef(0)\n",
    "    b = return_coef(1)\n",
    "    c = return_coef(2)\n",
    "    \n",
    "    ea = np.sqrt(((2*a*x[0]+b)**2+1))\n",
    "    eb = (2*a*x[0]+b)\n",
    "    ec = np.arcsinh(2*a*x[0]+b)\n",
    "    ed = 4*a\n",
    "    \n",
    "    nea = np.sqrt(((b)**2+1))\n",
    "    neb=(+b)\n",
    "    nec = np.arcsinh(b)\n",
    "    ned = 4*a\n",
    "    \n",
    "                 \n",
    "    \n",
    "    \n",
    "    \n",
    "    error = (ea*eb+ec)/ed- (nea*neb+nec)/ned\n",
    "    \n",
    "    \n",
    "    \n",
    "    \n",
    "    return error-x[0]"
   ]
  },
  {
   "cell_type": "code",
   "execution_count": 250,
   "metadata": {},
   "outputs": [],
   "source": [
    "df['erro_curvatura'] = df.apply(curvature_err,axis = 1)"
   ]
  },
  {
   "cell_type": "code",
   "execution_count": 259,
   "metadata": {},
   "outputs": [
    {
     "data": {
      "text/html": [
       "<div>\n",
       "<style scoped>\n",
       "    .dataframe tbody tr th:only-of-type {\n",
       "        vertical-align: middle;\n",
       "    }\n",
       "\n",
       "    .dataframe tbody tr th {\n",
       "        vertical-align: top;\n",
       "    }\n",
       "\n",
       "    .dataframe thead th {\n",
       "        text-align: right;\n",
       "    }\n",
       "</style>\n",
       "<table border=\"1\" class=\"dataframe\">\n",
       "  <thead>\n",
       "    <tr style=\"text-align: right;\">\n",
       "      <th></th>\n",
       "      <th>distancia</th>\n",
       "      <th>altura</th>\n",
       "      <th>erro_curvatura</th>\n",
       "    </tr>\n",
       "  </thead>\n",
       "  <tbody>\n",
       "    <tr>\n",
       "      <th>0</th>\n",
       "      <td>500</td>\n",
       "      <td>1</td>\n",
       "      <td>0.005333</td>\n",
       "    </tr>\n",
       "    <tr>\n",
       "      <th>1</th>\n",
       "      <td>500</td>\n",
       "      <td>2</td>\n",
       "      <td>0.021333</td>\n",
       "    </tr>\n",
       "    <tr>\n",
       "      <th>2</th>\n",
       "      <td>500</td>\n",
       "      <td>3</td>\n",
       "      <td>0.047996</td>\n",
       "    </tr>\n",
       "    <tr>\n",
       "      <th>3</th>\n",
       "      <td>500</td>\n",
       "      <td>4</td>\n",
       "      <td>0.085320</td>\n",
       "    </tr>\n",
       "    <tr>\n",
       "      <th>4</th>\n",
       "      <td>500</td>\n",
       "      <td>5</td>\n",
       "      <td>0.133301</td>\n",
       "    </tr>\n",
       "    <tr>\n",
       "      <th>5</th>\n",
       "      <td>500</td>\n",
       "      <td>6</td>\n",
       "      <td>0.191934</td>\n",
       "    </tr>\n",
       "    <tr>\n",
       "      <th>6</th>\n",
       "      <td>500</td>\n",
       "      <td>7</td>\n",
       "      <td>0.261211</td>\n",
       "    </tr>\n",
       "    <tr>\n",
       "      <th>7</th>\n",
       "      <td>500</td>\n",
       "      <td>8</td>\n",
       "      <td>0.341124</td>\n",
       "    </tr>\n",
       "    <tr>\n",
       "      <th>8</th>\n",
       "      <td>500</td>\n",
       "      <td>9</td>\n",
       "      <td>0.431665</td>\n",
       "    </tr>\n",
       "    <tr>\n",
       "      <th>9</th>\n",
       "      <td>500</td>\n",
       "      <td>10</td>\n",
       "      <td>0.532822</td>\n",
       "    </tr>\n",
       "  </tbody>\n",
       "</table>\n",
       "</div>"
      ],
      "text/plain": [
       "   distancia  altura  erro_curvatura\n",
       "0        500       1        0.005333\n",
       "1        500       2        0.021333\n",
       "2        500       3        0.047996\n",
       "3        500       4        0.085320\n",
       "4        500       5        0.133301\n",
       "5        500       6        0.191934\n",
       "6        500       7        0.261211\n",
       "7        500       8        0.341124\n",
       "8        500       9        0.431665\n",
       "9        500      10        0.532822"
      ]
     },
     "execution_count": 259,
     "metadata": {},
     "output_type": "execute_result"
    }
   ],
   "source": [
    "df[df['distancia'] == 500]"
   ]
  },
  {
   "cell_type": "code",
   "execution_count": 269,
   "metadata": {},
   "outputs": [],
   "source": [
    "df.rename(columns = {'distancia':'distancia_cm',\n",
    "                     'altura':'altura_cm',\n",
    "                     'erro_curvatura': 'erro_curvatura_cm'}, inplace = True)"
   ]
  },
  {
   "cell_type": "code",
   "execution_count": 276,
   "metadata": {},
   "outputs": [],
   "source": [
    "df['distancia_m']=df['distancia_cm']/100"
   ]
  },
  {
   "cell_type": "markdown",
   "metadata": {},
   "source": [
    "### erro hipotenusa"
   ]
  },
  {
   "cell_type": "code",
   "execution_count": 283,
   "metadata": {},
   "outputs": [],
   "source": [
    "def err_hipotenusa(x):\n",
    "    return 2*(np.sqrt((x[0]/2)**2+x[1]**2))-x[0]"
   ]
  },
  {
   "cell_type": "code",
   "execution_count": 284,
   "metadata": {},
   "outputs": [],
   "source": [
    "df['erro_hipotenusa_cm'] = df.apply(err_hipotenusa,axis= 1)"
   ]
  },
  {
   "cell_type": "code",
   "execution_count": 287,
   "metadata": {},
   "outputs": [
    {
     "data": {
      "text/plain": [
       "0.5328224999915392"
      ]
     },
     "execution_count": 287,
     "metadata": {},
     "output_type": "execute_result"
    }
   ],
   "source": [
    "df['erro_curvatura_cm'].max()"
   ]
  },
  {
   "cell_type": "code",
   "execution_count": 289,
   "metadata": {},
   "outputs": [
    {
     "data": {
      "text/html": [
       "<div>\n",
       "<style scoped>\n",
       "    .dataframe tbody tr th:only-of-type {\n",
       "        vertical-align: middle;\n",
       "    }\n",
       "\n",
       "    .dataframe tbody tr th {\n",
       "        vertical-align: top;\n",
       "    }\n",
       "\n",
       "    .dataframe thead th {\n",
       "        text-align: right;\n",
       "    }\n",
       "</style>\n",
       "<table border=\"1\" class=\"dataframe\">\n",
       "  <thead>\n",
       "    <tr style=\"text-align: right;\">\n",
       "      <th></th>\n",
       "      <th>distancia_cm</th>\n",
       "      <th>altura_cm</th>\n",
       "      <th>erro_curvatura_cm</th>\n",
       "      <th>distancia_m</th>\n",
       "      <th>erro_hipotenusa_cm</th>\n",
       "    </tr>\n",
       "  </thead>\n",
       "  <tbody>\n",
       "    <tr>\n",
       "      <th>9</th>\n",
       "      <td>500</td>\n",
       "      <td>10</td>\n",
       "      <td>0.532822</td>\n",
       "      <td>5.0</td>\n",
       "      <td>0.39984</td>\n",
       "    </tr>\n",
       "  </tbody>\n",
       "</table>\n",
       "</div>"
      ],
      "text/plain": [
       "   distancia_cm  altura_cm  erro_curvatura_cm  distancia_m  erro_hipotenusa_cm\n",
       "9           500         10           0.532822          5.0             0.39984"
      ]
     },
     "execution_count": 289,
     "metadata": {},
     "output_type": "execute_result"
    }
   ],
   "source": [
    "df[df['erro_curvatura_cm'] == df['erro_curvatura_cm'].max()]"
   ]
  },
  {
   "cell_type": "markdown",
   "metadata": {},
   "source": [
    "### erro altura"
   ]
  },
  {
   "cell_type": "code",
   "execution_count": 291,
   "metadata": {},
   "outputs": [],
   "source": [
    "def altura(df):\n",
    "    return np.sqrt(df[0]**2+df[1]**2)-df[0]"
   ]
  },
  {
   "cell_type": "code",
   "execution_count": 294,
   "metadata": {},
   "outputs": [
    {
     "data": {
      "text/html": [
       "<div>\n",
       "<style scoped>\n",
       "    .dataframe tbody tr th:only-of-type {\n",
       "        vertical-align: middle;\n",
       "    }\n",
       "\n",
       "    .dataframe tbody tr th {\n",
       "        vertical-align: top;\n",
       "    }\n",
       "\n",
       "    .dataframe thead th {\n",
       "        text-align: right;\n",
       "    }\n",
       "</style>\n",
       "<table border=\"1\" class=\"dataframe\">\n",
       "  <thead>\n",
       "    <tr style=\"text-align: right;\">\n",
       "      <th></th>\n",
       "      <th>distancia_cm</th>\n",
       "      <th>altura_cm</th>\n",
       "      <th>erro_curvatura_cm</th>\n",
       "      <th>distancia_m</th>\n",
       "      <th>erro_hipotenusa_cm</th>\n",
       "      <th>erro_altura</th>\n",
       "    </tr>\n",
       "  </thead>\n",
       "  <tbody>\n",
       "    <tr>\n",
       "      <th>9</th>\n",
       "      <td>500</td>\n",
       "      <td>10</td>\n",
       "      <td>0.532822</td>\n",
       "      <td>5.0</td>\n",
       "      <td>0.39984</td>\n",
       "      <td>0.09999</td>\n",
       "    </tr>\n",
       "  </tbody>\n",
       "</table>\n",
       "</div>"
      ],
      "text/plain": [
       "   distancia_cm  altura_cm  erro_curvatura_cm  distancia_m  \\\n",
       "9           500         10           0.532822          5.0   \n",
       "\n",
       "   erro_hipotenusa_cm  erro_altura  \n",
       "9             0.39984      0.09999  "
      ]
     },
     "execution_count": 294,
     "metadata": {},
     "output_type": "execute_result"
    }
   ],
   "source": [
    "df['erro_altura'] = df.apply(altura,axis = 1)\n",
    "df[df['erro_altura'] ==df['erro_altura'].max() ]"
   ]
  },
  {
   "cell_type": "code",
   "execution_count": 308,
   "metadata": {},
   "outputs": [],
   "source": [
    "df_10 = df[df['distancia_m'] > 5 ]"
   ]
  },
  {
   "cell_type": "code",
   "execution_count": 309,
   "metadata": {},
   "outputs": [],
   "source": [
    "df_10 = df_10[df_10['distancia_m'] <= 40]"
   ]
  },
  {
   "cell_type": "code",
   "execution_count": 315,
   "metadata": {},
   "outputs": [
    {
     "data": {
      "text/plain": [
       "0.050386861230760714"
      ]
     },
     "execution_count": 315,
     "metadata": {},
     "output_type": "execute_result"
    }
   ],
   "source": [
    "df_10['erro_curvatura_cm'].mean()"
   ]
  },
  {
   "cell_type": "code",
   "execution_count": 317,
   "metadata": {},
   "outputs": [
    {
     "data": {
      "text/html": [
       "<div>\n",
       "<style scoped>\n",
       "    .dataframe tbody tr th:only-of-type {\n",
       "        vertical-align: middle;\n",
       "    }\n",
       "\n",
       "    .dataframe tbody tr th {\n",
       "        vertical-align: top;\n",
       "    }\n",
       "\n",
       "    .dataframe thead th {\n",
       "        text-align: right;\n",
       "    }\n",
       "</style>\n",
       "<table border=\"1\" class=\"dataframe\">\n",
       "  <thead>\n",
       "    <tr style=\"text-align: right;\">\n",
       "      <th></th>\n",
       "      <th>distancia_cm</th>\n",
       "      <th>altura_cm</th>\n",
       "      <th>erro_curvatura_cm</th>\n",
       "      <th>distancia_m</th>\n",
       "      <th>erro_hipotenusa_cm</th>\n",
       "      <th>erro_altura</th>\n",
       "    </tr>\n",
       "  </thead>\n",
       "  <tbody>\n",
       "    <tr>\n",
       "      <th>0</th>\n",
       "      <td>500</td>\n",
       "      <td>1</td>\n",
       "      <td>0.005333</td>\n",
       "      <td>5.0</td>\n",
       "      <td>0.004000</td>\n",
       "      <td>0.001000</td>\n",
       "    </tr>\n",
       "    <tr>\n",
       "      <th>1</th>\n",
       "      <td>500</td>\n",
       "      <td>2</td>\n",
       "      <td>0.021333</td>\n",
       "      <td>5.0</td>\n",
       "      <td>0.016000</td>\n",
       "      <td>0.004000</td>\n",
       "    </tr>\n",
       "    <tr>\n",
       "      <th>2</th>\n",
       "      <td>500</td>\n",
       "      <td>3</td>\n",
       "      <td>0.047996</td>\n",
       "      <td>5.0</td>\n",
       "      <td>0.035999</td>\n",
       "      <td>0.009000</td>\n",
       "    </tr>\n",
       "    <tr>\n",
       "      <th>3</th>\n",
       "      <td>500</td>\n",
       "      <td>4</td>\n",
       "      <td>0.085320</td>\n",
       "      <td>5.0</td>\n",
       "      <td>0.063996</td>\n",
       "      <td>0.016000</td>\n",
       "    </tr>\n",
       "    <tr>\n",
       "      <th>4</th>\n",
       "      <td>500</td>\n",
       "      <td>5</td>\n",
       "      <td>0.133301</td>\n",
       "      <td>5.0</td>\n",
       "      <td>0.099990</td>\n",
       "      <td>0.024999</td>\n",
       "    </tr>\n",
       "    <tr>\n",
       "      <th>...</th>\n",
       "      <td>...</td>\n",
       "      <td>...</td>\n",
       "      <td>...</td>\n",
       "      <td>...</td>\n",
       "      <td>...</td>\n",
       "      <td>...</td>\n",
       "    </tr>\n",
       "    <tr>\n",
       "      <th>95</th>\n",
       "      <td>5000</td>\n",
       "      <td>6</td>\n",
       "      <td>0.019200</td>\n",
       "      <td>50.0</td>\n",
       "      <td>0.014400</td>\n",
       "      <td>0.003600</td>\n",
       "    </tr>\n",
       "    <tr>\n",
       "      <th>96</th>\n",
       "      <td>5000</td>\n",
       "      <td>7</td>\n",
       "      <td>0.026133</td>\n",
       "      <td>50.0</td>\n",
       "      <td>0.019600</td>\n",
       "      <td>0.004900</td>\n",
       "    </tr>\n",
       "    <tr>\n",
       "      <th>97</th>\n",
       "      <td>5000</td>\n",
       "      <td>8</td>\n",
       "      <td>0.034133</td>\n",
       "      <td>50.0</td>\n",
       "      <td>0.025600</td>\n",
       "      <td>0.006400</td>\n",
       "    </tr>\n",
       "    <tr>\n",
       "      <th>98</th>\n",
       "      <td>5000</td>\n",
       "      <td>9</td>\n",
       "      <td>0.043200</td>\n",
       "      <td>50.0</td>\n",
       "      <td>0.032400</td>\n",
       "      <td>0.008100</td>\n",
       "    </tr>\n",
       "    <tr>\n",
       "      <th>99</th>\n",
       "      <td>5000</td>\n",
       "      <td>10</td>\n",
       "      <td>0.053333</td>\n",
       "      <td>50.0</td>\n",
       "      <td>0.040000</td>\n",
       "      <td>0.010000</td>\n",
       "    </tr>\n",
       "  </tbody>\n",
       "</table>\n",
       "<p>100 rows × 6 columns</p>\n",
       "</div>"
      ],
      "text/plain": [
       "    distancia_cm  altura_cm  erro_curvatura_cm  distancia_m  \\\n",
       "0            500          1           0.005333          5.0   \n",
       "1            500          2           0.021333          5.0   \n",
       "2            500          3           0.047996          5.0   \n",
       "3            500          4           0.085320          5.0   \n",
       "4            500          5           0.133301          5.0   \n",
       "..           ...        ...                ...          ...   \n",
       "95          5000          6           0.019200         50.0   \n",
       "96          5000          7           0.026133         50.0   \n",
       "97          5000          8           0.034133         50.0   \n",
       "98          5000          9           0.043200         50.0   \n",
       "99          5000         10           0.053333         50.0   \n",
       "\n",
       "    erro_hipotenusa_cm  erro_altura  \n",
       "0             0.004000     0.001000  \n",
       "1             0.016000     0.004000  \n",
       "2             0.035999     0.009000  \n",
       "3             0.063996     0.016000  \n",
       "4             0.099990     0.024999  \n",
       "..                 ...          ...  \n",
       "95            0.014400     0.003600  \n",
       "96            0.019600     0.004900  \n",
       "97            0.025600     0.006400  \n",
       "98            0.032400     0.008100  \n",
       "99            0.040000     0.010000  \n",
       "\n",
       "[100 rows x 6 columns]"
      ]
     },
     "execution_count": 317,
     "metadata": {},
     "output_type": "execute_result"
    }
   ],
   "source": [
    "df"
   ]
  },
  {
   "cell_type": "code",
   "execution_count": 321,
   "metadata": {},
   "outputs": [
    {
     "data": {
      "text/plain": [
       "5.711593842806963"
      ]
     },
     "execution_count": 321,
     "metadata": {},
     "output_type": "execute_result"
    }
   ],
   "source": [
    "curvature(100,15)"
   ]
  },
  {
   "cell_type": "code",
   "execution_count": 323,
   "metadata": {},
   "outputs": [
    {
     "data": {
      "text/html": [
       "<div>\n",
       "<style scoped>\n",
       "    .dataframe tbody tr th:only-of-type {\n",
       "        vertical-align: middle;\n",
       "    }\n",
       "\n",
       "    .dataframe tbody tr th {\n",
       "        vertical-align: top;\n",
       "    }\n",
       "\n",
       "    .dataframe thead th {\n",
       "        text-align: right;\n",
       "    }\n",
       "</style>\n",
       "<table border=\"1\" class=\"dataframe\">\n",
       "  <thead>\n",
       "    <tr style=\"text-align: right;\">\n",
       "      <th></th>\n",
       "      <th>distancia_cm</th>\n",
       "      <th>altura_cm</th>\n",
       "      <th>erro_curvatura_cm</th>\n",
       "      <th>distancia_m</th>\n",
       "      <th>erro_hipotenusa_cm</th>\n",
       "      <th>erro_altura</th>\n",
       "    </tr>\n",
       "  </thead>\n",
       "  <tbody>\n",
       "    <tr>\n",
       "      <th>50</th>\n",
       "      <td>3000</td>\n",
       "      <td>1</td>\n",
       "      <td>0.000889</td>\n",
       "      <td>30.0</td>\n",
       "      <td>0.000667</td>\n",
       "      <td>0.000167</td>\n",
       "    </tr>\n",
       "    <tr>\n",
       "      <th>51</th>\n",
       "      <td>3000</td>\n",
       "      <td>2</td>\n",
       "      <td>0.003556</td>\n",
       "      <td>30.0</td>\n",
       "      <td>0.002667</td>\n",
       "      <td>0.000667</td>\n",
       "    </tr>\n",
       "    <tr>\n",
       "      <th>52</th>\n",
       "      <td>3000</td>\n",
       "      <td>3</td>\n",
       "      <td>0.008000</td>\n",
       "      <td>30.0</td>\n",
       "      <td>0.006000</td>\n",
       "      <td>0.001500</td>\n",
       "    </tr>\n",
       "    <tr>\n",
       "      <th>53</th>\n",
       "      <td>3000</td>\n",
       "      <td>4</td>\n",
       "      <td>0.014222</td>\n",
       "      <td>30.0</td>\n",
       "      <td>0.010667</td>\n",
       "      <td>0.002667</td>\n",
       "    </tr>\n",
       "    <tr>\n",
       "      <th>54</th>\n",
       "      <td>3000</td>\n",
       "      <td>5</td>\n",
       "      <td>0.022222</td>\n",
       "      <td>30.0</td>\n",
       "      <td>0.016667</td>\n",
       "      <td>0.004167</td>\n",
       "    </tr>\n",
       "    <tr>\n",
       "      <th>55</th>\n",
       "      <td>3000</td>\n",
       "      <td>6</td>\n",
       "      <td>0.032000</td>\n",
       "      <td>30.0</td>\n",
       "      <td>0.024000</td>\n",
       "      <td>0.006000</td>\n",
       "    </tr>\n",
       "    <tr>\n",
       "      <th>56</th>\n",
       "      <td>3000</td>\n",
       "      <td>7</td>\n",
       "      <td>0.043555</td>\n",
       "      <td>30.0</td>\n",
       "      <td>0.032666</td>\n",
       "      <td>0.008167</td>\n",
       "    </tr>\n",
       "    <tr>\n",
       "      <th>57</th>\n",
       "      <td>3000</td>\n",
       "      <td>8</td>\n",
       "      <td>0.056888</td>\n",
       "      <td>30.0</td>\n",
       "      <td>0.042666</td>\n",
       "      <td>0.010667</td>\n",
       "    </tr>\n",
       "    <tr>\n",
       "      <th>58</th>\n",
       "      <td>3000</td>\n",
       "      <td>9</td>\n",
       "      <td>0.071998</td>\n",
       "      <td>30.0</td>\n",
       "      <td>0.054000</td>\n",
       "      <td>0.013500</td>\n",
       "    </tr>\n",
       "    <tr>\n",
       "      <th>59</th>\n",
       "      <td>3000</td>\n",
       "      <td>10</td>\n",
       "      <td>0.088887</td>\n",
       "      <td>30.0</td>\n",
       "      <td>0.066666</td>\n",
       "      <td>0.016667</td>\n",
       "    </tr>\n",
       "  </tbody>\n",
       "</table>\n",
       "</div>"
      ],
      "text/plain": [
       "    distancia_cm  altura_cm  erro_curvatura_cm  distancia_m  \\\n",
       "50          3000          1           0.000889         30.0   \n",
       "51          3000          2           0.003556         30.0   \n",
       "52          3000          3           0.008000         30.0   \n",
       "53          3000          4           0.014222         30.0   \n",
       "54          3000          5           0.022222         30.0   \n",
       "55          3000          6           0.032000         30.0   \n",
       "56          3000          7           0.043555         30.0   \n",
       "57          3000          8           0.056888         30.0   \n",
       "58          3000          9           0.071998         30.0   \n",
       "59          3000         10           0.088887         30.0   \n",
       "\n",
       "    erro_hipotenusa_cm  erro_altura  \n",
       "50            0.000667     0.000167  \n",
       "51            0.002667     0.000667  \n",
       "52            0.006000     0.001500  \n",
       "53            0.010667     0.002667  \n",
       "54            0.016667     0.004167  \n",
       "55            0.024000     0.006000  \n",
       "56            0.032666     0.008167  \n",
       "57            0.042666     0.010667  \n",
       "58            0.054000     0.013500  \n",
       "59            0.066666     0.016667  "
      ]
     },
     "execution_count": 323,
     "metadata": {},
     "output_type": "execute_result"
    }
   ],
   "source": [
    "df[df['distancia_m']== 30]"
   ]
  }
 ],
 "metadata": {
  "kernelspec": {
   "display_name": "Python 3",
   "language": "python",
   "name": "python3"
  },
  "language_info": {
   "codemirror_mode": {
    "name": "ipython",
    "version": 3
   },
   "file_extension": ".py",
   "mimetype": "text/x-python",
   "name": "python",
   "nbconvert_exporter": "python",
   "pygments_lexer": "ipython3",
   "version": "3.7.3"
  }
 },
 "nbformat": 4,
 "nbformat_minor": 4
}
